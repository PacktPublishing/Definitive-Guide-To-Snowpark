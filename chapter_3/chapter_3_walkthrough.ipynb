{
 "cells": [
  {
   "cell_type": "markdown",
   "metadata": {},
   "source": [
    "### Setup your Snowflake environment for chapter 3"
   ]
  },
  {
   "cell_type": "code",
   "execution_count": 1,
   "metadata": {},
   "outputs": [],
   "source": [
    "import configparser\n",
    "from snowflake.snowpark import Session\n",
    "import time"
   ]
  },
  {
   "cell_type": "code",
   "execution_count": 2,
   "metadata": {},
   "outputs": [
    {
     "data": {
      "text/plain": [
       "'\"PCB29551\"'"
      ]
     },
     "execution_count": 2,
     "metadata": {},
     "output_type": "execute_result"
    }
   ],
   "source": [
    "# Connect to your snowflake account using your credentials\n",
    "snowflake_credentials_file = 'snowflake_creds.config'\n",
    "\n",
    "config = configparser.ConfigParser()\n",
    "config.read(snowflake_credentials_file)\n",
    "\n",
    "session = Session.builder.configs(dict(config['default'])).create()\n",
    "\n",
    "# test the session\n",
    "session.get_current_account()"
   ]
  },
  {
   "cell_type": "code",
   "execution_count": 3,
   "metadata": {},
   "outputs": [
    {
     "name": "stdout",
     "output_type": "stream",
     "text": [
      "[Row(status='PACKT already exists, statement succeeded.')]\n",
      "[Row(status='CHAPTER_3 already exists, statement succeeded.')]\n",
      "[Row(status='MY_STAGE already exists, statement succeeded.')]\n"
     ]
    }
   ],
   "source": [
    "# Make sure your Snowflake has the necessary resources initialized\n",
    "snowflake_setup_file = \"setup.sql\"\n",
    "\n",
    "with open(snowflake_setup_file, 'r') as file:\n",
    "    sql_script = file.read()\n",
    "\n",
    "sql_script_statements = sql_script.split(\";\")\n",
    "\n",
    "print(session.sql(sql_script_statements[0]).collect())\n",
    "print(session.sql(sql_script_statements[1]).collect())\n",
    "print(session.sql(sql_script_statements[2]).collect())\n"
   ]
  },
  {
   "cell_type": "markdown",
   "metadata": {},
   "source": [
    "# Start of Chapter 3 Code"
   ]
  },
  {
   "cell_type": "code",
   "execution_count": 4,
   "metadata": {},
   "outputs": [
    {
     "data": {
      "text/plain": [
       "[PutResult(source='marketing_campaign.csv', target='marketing_campaign.csv.gz', source_size=220189, target_size=0, source_compression='NONE', target_compression='GZIP', status='SKIPPED', message='')]"
      ]
     },
     "execution_count": 4,
     "metadata": {},
     "output_type": "execute_result"
    }
   ],
   "source": [
    "session.file.put('./data/marketing_campaign.csv', 'PACKT.CHAPTER_3.MY_STAGE') "
   ]
  },
  {
   "cell_type": "code",
   "execution_count": 5,
   "metadata": {},
   "outputs": [
    {
     "data": {
      "text/plain": [
       "[Row(name='my_stage/marketing_campaign.csv.gz', size=58880, md5='234f7588f443aeb2f965f86842263b5e', last_modified='Wed, 3 Jan 2024 03:49:04 GMT')]"
      ]
     },
     "execution_count": 5,
     "metadata": {},
     "output_type": "execute_result"
    }
   ],
   "source": [
    "# list the files in the stage:\n",
    "session.sql(\"list @PACKT.CHAPTER_3.MY_STAGE\").collect()"
   ]
  },
  {
   "cell_type": "code",
   "execution_count": 6,
   "metadata": {},
   "outputs": [],
   "source": [
    "import snowflake.snowpark.types as T \n",
    "\n",
    "purchase_history_schema = T.StructType(\n",
    "    [\n",
    "        T.StructField(\"ID\", T.IntegerType()), \n",
    "        T.StructField(\"Year_Birth\", T.IntegerType()),T.StructField(\"Education\", T.StringType()), \n",
    "        T.StructField(\"Marital_Status\", T.StringType()),T.StructField(\"Income\", T.IntegerType()), \n",
    "        T.StructField(\"Kidhome\", T.IntegerType()),T.StructField(\"Teenhome\", T.IntegerType()), \n",
    "        T.StructField(\"Dt_Customer\", T.DateType()),T.StructField(\"Recency\", T.IntegerType()), \n",
    "        T.StructField(\"MntWines\", T.IntegerType()),T.StructField(\"MntFruits\", T.IntegerType()), \n",
    "        T.StructField(\"MntMeatProducts\", T.IntegerType()),T.StructField(\"MntFishProducts\", T.IntegerType()), \n",
    "        T.StructField(\"MntSweetProducts\", T.IntegerType()),T.StructField(\"MntGoldProds\", T.IntegerType()), \n",
    "        T.StructField(\"NumDealsPurchases\", T.IntegerType()),T.StructField(\"NumWebPurchases\", T.IntegerType()), \n",
    "        T.StructField(\"NumCatalogPurchases\", T.IntegerType()),T.StructField(\"NumStorePurchases\", T.IntegerType()), \n",
    "        T.StructField(\"NumWebVisitsMonth\", T.IntegerType())\n",
    "    ]\n",
    ") "
   ]
  },
  {
   "cell_type": "code",
   "execution_count": 7,
   "metadata": {},
   "outputs": [],
   "source": [
    "session.sql(\"USE DATABASE PACKT\").collect()\n",
    "session.sql(\"USE SCHEMA PACKT.CHAPTER_3\").collect\n",
    "session.sql(\"TRUNCATE TABLE IF EXISTS PURCHASE_HISTORY\").collect()\n",
    "\n",
    "purchase_history = session.read\\\n",
    ".option(\"FIELD_DELIMITER\", ',')\\\n",
    ".option(\"SKIP_HEADER\", 1)\\\n",
    ".option(\"ON_ERROR\", \"CONTINUE\")\\\n",
    ".schema(purchase_history_schema).csv(\"@PACKT.CHAPTER_3.MY_STAGE/marketing_campaign.csv.gz\")\\\n",
    ".copy_into_table(\"PURCHASE_HISTORY\")"
   ]
  },
  {
   "cell_type": "code",
   "execution_count": 8,
   "metadata": {},
   "outputs": [
    {
     "name": "stdout",
     "output_type": "stream",
     "text": [
      "-----------------------------------------------------------------------------------------------------------------------------------------------------------------------------------------------------------------------------------------------------------------------------------------------------------------------------------------------\n",
      "|\"ID\"  |\"YEAR_BIRTH\"  |\"EDUCATION\"  |\"MARITAL_STATUS\"  |\"INCOME\"  |\"KIDHOME\"  |\"TEENHOME\"  |\"DT_CUSTOMER\"  |\"RECENCY\"  |\"MNTWINES\"  |\"MNTFRUITS\"  |\"MNTMEATPRODUCTS\"  |\"MNTFISHPRODUCTS\"  |\"MNTSWEETPRODUCTS\"  |\"MNTGOLDPRODS\"  |\"NUMDEALSPURCHASES\"  |\"NUMWEBPURCHASES\"  |\"NUMCATALOGPURCHASES\"  |\"NUMSTOREPURCHASES\"  |\"NUMWEBVISITSMONTH\"  |\n",
      "-----------------------------------------------------------------------------------------------------------------------------------------------------------------------------------------------------------------------------------------------------------------------------------------------------------------------------------------------\n",
      "|      |              |             |                  |          |           |            |               |           |            |             |                   |                   |                    |                |                     |                   |                       |                     |                     |\n",
      "-----------------------------------------------------------------------------------------------------------------------------------------------------------------------------------------------------------------------------------------------------------------------------------------------------------------------------------------------\n",
      "\n"
     ]
    }
   ],
   "source": [
    "session.table(\"PURCHASE_HISTORY\").show() "
   ]
  },
  {
   "cell_type": "code",
   "execution_count": null,
   "metadata": {},
   "outputs": [],
   "source": []
  },
  {
   "cell_type": "code",
   "execution_count": null,
   "metadata": {},
   "outputs": [],
   "source": []
  }
 ],
 "metadata": {
  "kernelspec": {
   "display_name": "Python 3 (ipykernel)",
   "language": "python",
   "name": "python3"
  },
  "language_info": {
   "codemirror_mode": {
    "name": "ipython",
    "version": 3
   },
   "file_extension": ".py",
   "mimetype": "text/x-python",
   "name": "python",
   "nbconvert_exporter": "python",
   "pygments_lexer": "ipython3",
   "version": "3.8.18"
  }
 },
 "nbformat": 4,
 "nbformat_minor": 4
}

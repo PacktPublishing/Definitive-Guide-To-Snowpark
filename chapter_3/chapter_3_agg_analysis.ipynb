{
 "cells": [
  {
   "attachments": {},
   "cell_type": "markdown",
   "metadata": {},
   "source": [
    "### Session Connection"
   ]
  },
  {
   "cell_type": "code",
   "execution_count": 1,
   "metadata": {},
   "outputs": [],
   "source": [
    "from snowflake.snowpark import Session\n",
    "from snowflake.snowpark.functions import col\n",
    "import configparser\n",
    "\n",
    "connection_parameters = {\n",
    "    \"account\": \"<your snowflake account identifier>\",\n",
    "    \"user\": \"<your snowflake username>\",\n",
    "    \"password\": \"<your snowflake password>\",\n",
    "    \"role\": \"<your snowflake role>\",\n",
    "    \"warehouse\": \"<your snowflake warehouse>\",  # optional\n",
    "    \"database\": \"<your snowflake database>\",  # optional\n",
    "    \"schema\": \"<your snowflake schema>\" # optional\n",
    "  }\n",
    "\n",
    "# it is best practice to not use/save your credentials in a jupyter notebook\n",
    "# In this case I'm loading my credentials as a dictionary\n",
    "snowflake_credentials_file = '../snowflake_creds.config'\n",
    "config = configparser.ConfigParser()\n",
    "config.read(snowflake_credentials_file)\n",
    "connection_parameters = dict(config['default'])\n",
    "session = Session.builder.configs(connection_parameters).create()"
   ]
  },
  {
   "attachments": {},
   "cell_type": "markdown",
   "metadata": {},
   "source": [
    "### Data Aggregation \n",
    "\n",
    "* Section covers various aggregation methodology through Snowpark API\n",
    "* Code snippets encompasses both single, multilevel groupby's and sorting mechanisms "
   ]
  },
  {
   "cell_type": "code",
   "execution_count": 2,
   "metadata": {},
   "outputs": [
    {
     "name": "stdout",
     "output_type": "stream",
     "text": [
      "----------------------------------------------------------------------------------------------------------------------------------------------------------------------------------------------------------------------------------------------------------------------------------------------------------------------------------------------------------------------------------------------------------------------------------------------------------------------------------------------\n",
      "|\"YEAR_BIRTH\"  |\"EDUCATION\"  |\"MARITAL_STATUS\"  |\"INCOME\"  |\"KIDHOME\"  |\"TEENHOME\"  |\"DT_CUSTOMER\"  |\"RECENCY\"  |\"MNTWINES\"  |\"MNTFRUITS\"  |\"MNTMEATPRODUCTS\"  |\"MNTFISHPRODUCTS\"  |\"MNTSWEETPRODUCTS\"  |\"MNTGOLDPRODS\"  |\"NUMDEALSPURCHASES\"  |\"NUMWEBPURCHASES\"  |\"NUMCATALOGPURCHASES\"  |\"NUMSTOREPURCHASES\"  |\"NUMWEBVISITSMONTH\"  |\"ACCEPTEDCMP1\"  |\"ACCEPTEDCMP2\"  |\"ACCEPTEDCMP3\"  |\"ACCEPTEDCMP4\"  |\"ACCEPTEDCMP5\"  |\"RESPONSE\"  |\"ID\"  |\"COMPLAIN\"  |\"Z_COSTCONTACT\"  |\"Z_REVENUE\"  |\n",
      "----------------------------------------------------------------------------------------------------------------------------------------------------------------------------------------------------------------------------------------------------------------------------------------------------------------------------------------------------------------------------------------------------------------------------------------------------------------------------------------------\n",
      "|1957          |Graduation   |Single            |58138     |0          |0           |2012-09-04     |58         |635         |88           |546                |172                |88                  |88              |3                    |8                  |10                     |4                    |7                    |0               |0               |0               |0               |0               |1           |5524  |0           |3                |11           |\n",
      "|1954          |Graduation   |Single            |46344     |1          |1           |2014-03-08     |38         |11          |1            |6                  |2                  |1                   |6               |2                    |1                  |1                      |2                    |5                    |0               |0               |0               |0               |0               |0           |2174  |0           |3                |11           |\n",
      "|1965          |Graduation   |Together          |71613     |0          |0           |2013-08-21     |26         |426         |49           |127                |111                |21                  |42              |1                    |8                  |2                      |10                   |4                    |0               |0               |0               |0               |0               |0           |4141  |0           |3                |11           |\n",
      "|1984          |Graduation   |Together          |26646     |1          |0           |2014-02-10     |26         |11          |4            |20                 |10                 |3                   |5               |2                    |2                  |0                      |4                    |6                    |0               |0               |0               |0               |0               |0           |6182  |0           |3                |11           |\n",
      "|1981          |PhD          |Married           |58293     |1          |0           |2014-01-19     |94         |173         |43           |118                |46                 |27                  |15              |5                    |5                  |3                      |6                    |5                    |0               |0               |0               |0               |0               |0           |5324  |0           |3                |11           |\n",
      "|1967          |Master       |Together          |62513     |0          |1           |2013-09-09     |16         |520         |42           |98                 |0                  |42                  |14              |2                    |6                  |4                      |10                   |6                    |0               |0               |0               |0               |0               |0           |7446  |0           |3                |11           |\n",
      "|1971          |Graduation   |Divorced          |55635     |0          |1           |2012-11-13     |34         |235         |65           |164                |50                 |49                  |27              |4                    |7                  |3                      |7                    |6                    |0               |0               |0               |0               |0               |0           |965   |0           |3                |11           |\n",
      "|1985          |PhD          |Married           |33454     |1          |0           |2013-05-08     |32         |76          |10           |56                 |3                  |1                   |23              |2                    |4                  |0                      |4                    |8                    |0               |0               |0               |0               |0               |0           |6177  |0           |3                |11           |\n",
      "|1950          |PhD          |Together          |5648      |1          |1           |2014-03-13     |68         |28          |0            |6                  |1                  |1                   |13              |1                    |1                  |0                      |0                    |20                   |0               |0               |1               |0               |0               |0           |5899  |0           |3                |11           |\n",
      "|1983          |Graduation   |Married           |NULL      |1          |0           |2013-11-15     |11         |5           |5            |6                  |0                  |2                   |1               |1                    |1                  |0                      |2                    |7                    |0               |0               |0               |0               |0               |0           |1994  |0           |3                |11           |\n",
      "----------------------------------------------------------------------------------------------------------------------------------------------------------------------------------------------------------------------------------------------------------------------------------------------------------------------------------------------------------------------------------------------------------------------------------------------------------------------------------------------\n",
      "\n"
     ]
    }
   ],
   "source": [
    "session.use_database(\"SNOWPARK_DEFINITIVE_GUIDE\")\n",
    "session.use_schema(\"MY_SCHEMA\")\n",
    "\n",
    "marketing_final = session.table(\"MARKETING_DATA\")\n",
    "marketing_final.show()"
   ]
  },
  {
   "cell_type": "code",
   "execution_count": 3,
   "metadata": {},
   "outputs": [
    {
     "name": "stdout",
     "output_type": "stream",
     "text": [
      "-------------------------------\n",
      "|\"EDUCATION\"  |\"AVG(INCOME)\"  |\n",
      "-------------------------------\n",
      "|Graduation   |52720.373656   |\n",
      "|PhD          |56145.313929   |\n",
      "|Master       |52917.534247   |\n",
      "|Basic        |20306.259259   |\n",
      "|2n Cycle     |47633.190000   |\n",
      "-------------------------------\n",
      "\n"
     ]
    }
   ],
   "source": [
    "# Method 1\n",
    "marketing_final.group_by(\"EDUCATION\").mean(\"INCOME\").show()"
   ]
  },
  {
   "cell_type": "code",
   "execution_count": 4,
   "metadata": {},
   "outputs": [
    {
     "name": "stdout",
     "output_type": "stream",
     "text": [
      "------------------------------\n",
      "|\"EDUCATION\"  |\"AVG_INCOME\"  |\n",
      "------------------------------\n",
      "|Graduation   |52720.373656  |\n",
      "|PhD          |56145.313929  |\n",
      "|Master       |52917.534247  |\n",
      "|Basic        |20306.259259  |\n",
      "|2n Cycle     |47633.190000  |\n",
      "------------------------------\n",
      "\n"
     ]
    }
   ],
   "source": [
    "### Using Alias For Calculated Column\n",
    "from snowflake.snowpark.functions import sum, avg, max\n",
    "marketing_final.group_by(\"EDUCATION\").agg(avg(\"INCOME\").alias(\"Avg_Income\")).show()"
   ]
  },
  {
   "cell_type": "code",
   "execution_count": 5,
   "metadata": {},
   "outputs": [
    {
     "name": "stdout",
     "output_type": "stream",
     "text": [
      "---------------------------------------\n",
      "|\"MARITAL_STATUS\"  |\"SUM(Z_REVENUE)\"  |\n",
      "---------------------------------------\n",
      "|Single            |5280              |\n",
      "|Together          |6380              |\n",
      "|Married           |9504              |\n",
      "|Divorced          |2552              |\n",
      "|Widow             |847               |\n",
      "|Alone             |33                |\n",
      "|Absurd            |22                |\n",
      "|YOLO              |22                |\n",
      "---------------------------------------\n",
      "\n"
     ]
    }
   ],
   "source": [
    "# Method 2\n",
    "marketing_final.group_by(\"MARITAL_STATUS\").function(\"sum\")(\"Z_REVENUE\").show()"
   ]
  },
  {
   "cell_type": "code",
   "execution_count": 6,
   "metadata": {},
   "outputs": [
    {
     "name": "stdout",
     "output_type": "stream",
     "text": [
      "------------------------------------\n",
      "|\"MARITAL_STATUS\"  |\"MAX(INCOME)\"  |\n",
      "------------------------------------\n",
      "|Single            |113734         |\n",
      "|Together          |666666         |\n",
      "|Married           |160803         |\n",
      "|Divorced          |153924         |\n",
      "|Widow             |85620          |\n",
      "|Alone             |61331          |\n",
      "|Absurd            |79244          |\n",
      "|YOLO              |48432          |\n",
      "------------------------------------\n",
      "\n"
     ]
    }
   ],
   "source": [
    "# Method 3\n",
    "marketing_final.group_by(\"MARITAL_STATUS\").agg(max(\"INCOME\")).show()"
   ]
  },
  {
   "cell_type": "code",
   "execution_count": 7,
   "metadata": {},
   "outputs": [
    {
     "name": "stdout",
     "output_type": "stream",
     "text": [
      "----------------------------------------------------\n",
      "|\"EDUCATION\"  |\"COUNT(LITERAL())\"  |\"MAX(INCOME)\"  |\n",
      "----------------------------------------------------\n",
      "|Graduation   |1127                |666666         |\n",
      "|PhD          |486                 |162397         |\n",
      "|Master       |370                 |157733         |\n",
      "|Basic        |54                  |34445          |\n",
      "|2n Cycle     |203                 |96547          |\n",
      "----------------------------------------------------\n",
      "\n"
     ]
    }
   ],
   "source": [
    "# Count of Category\n",
    "marketing_final.group_by(\"EDUCATION\").agg((col(\"*\"), \"count\"), max(\"INCOME\")).show()"
   ]
  },
  {
   "cell_type": "code",
   "execution_count": 8,
   "metadata": {},
   "outputs": [
    {
     "name": "stdout",
     "output_type": "stream",
     "text": [
      "------------------------------------------------------------------\n",
      "|\"EDUCATION\"  |\"MARITAL_STATUS\"  |\"AVG_INCOME\"  |\"SUM_PURCHASE\"  |\n",
      "------------------------------------------------------------------\n",
      "|Graduation   |Single            |51322.182927  |1426            |\n",
      "|Graduation   |Together          |55758.480702  |1686            |\n",
      "|PhD          |Married           |58138.031579  |1191            |\n",
      "|Master       |Together          |52109.009804  |600             |\n",
      "|Graduation   |Divorced          |54526.042017  |697             |\n",
      "|Graduation   |Married           |50800.258741  |2544            |\n",
      "|2n Cycle     |Single            |53673.944444  |194             |\n",
      "|Master       |Married           |53286.028986  |815             |\n",
      "|Graduation   |Widow             |54976.657143  |206             |\n",
      "|2n Cycle     |Married           |46201.100000  |440             |\n",
      "------------------------------------------------------------------\n",
      "\n"
     ]
    }
   ],
   "source": [
    "# Multi-Level Aggregation \n",
    "marketing_final.group_by([\"EDUCATION\",\"MARITAL_STATUS\"]).agg(\n",
    "    avg(\"INCOME\").alias(\"Avg_Income\"),\n",
    "    sum(\"NUMSTOREPURCHASES\").alias(\"Sum_Purchase\")\n",
    "    ).show()"
   ]
  },
  {
   "cell_type": "code",
   "execution_count": 9,
   "metadata": {},
   "outputs": [
    {
     "name": "stdout",
     "output_type": "stream",
     "text": [
      "-------------------------------------------------------\n",
      "|\"EDUCATION\"  |\"AVG_INCOME\"  |\"TOTAL_STORE_PURCHASE\"  |\n",
      "-------------------------------------------------------\n",
      "|Graduation   |52720.373656  |6570                    |\n",
      "|PhD          |56145.313929  |2946                    |\n",
      "|Master       |52917.534247  |2182                    |\n",
      "|Basic        |20306.259259  |154                     |\n",
      "|2n Cycle     |47633.190000  |1118                    |\n",
      "-------------------------------------------------------\n",
      "\n"
     ]
    }
   ],
   "source": [
    "## Multiple metric in Aggregation\n",
    "\n",
    "marketing_final.group_by(\"EDUCATION\").agg(\n",
    "    avg(\"INCOME\").alias(\"Avg_Income\"),\n",
    "    sum(\"NUMSTOREPURCHASES\").alias(\"Total_Store_Purchase\")\n",
    "    ).show()"
   ]
  },
  {
   "cell_type": "code",
   "execution_count": 10,
   "metadata": {},
   "outputs": [],
   "source": [
    "# from snowflake.snowpark import GroupingSets\n",
    "# purchase_history.group_by_grouping_sets(GroupingSets([col(\"EDUCATION\")], [col(\"MARITAL_STATUS\")])).count().show()"
   ]
  },
  {
   "attachments": {},
   "cell_type": "markdown",
   "metadata": {},
   "source": [
    "##### Sorting"
   ]
  },
  {
   "cell_type": "code",
   "execution_count": 11,
   "metadata": {},
   "outputs": [
    {
     "name": "stdout",
     "output_type": "stream",
     "text": [
      "------------------------------------------------------------------\n",
      "|\"EDUCATION\"  |\"MARITAL_STATUS\"  |\"AVG_INCOME\"  |\"SUM_PURCHASE\"  |\n",
      "------------------------------------------------------------------\n",
      "|2n Cycle     |Widow             |51392.200000  |37              |\n",
      "|2n Cycle     |Divorced          |49395.130435  |138             |\n",
      "|2n Cycle     |Single            |53673.944444  |194             |\n",
      "|2n Cycle     |Together          |44736.410714  |309             |\n",
      "|2n Cycle     |Married           |46201.100000  |440             |\n",
      "|Basic        |Widow             |22123.000000  |3               |\n",
      "|Basic        |Divorced          |9548.000000   |3               |\n",
      "|Basic        |Together          |21240.071429  |34              |\n",
      "|Basic        |Single            |18238.666667  |49              |\n",
      "|Basic        |Married           |21960.500000  |65              |\n",
      "------------------------------------------------------------------\n",
      "\n"
     ]
    }
   ],
   "source": [
    "aggregate_result = marketing_final.group_by([\"EDUCATION\",\"MARITAL_STATUS\"]).agg(\n",
    "    avg(\"INCOME\").alias(\"Avg_Income\"),\n",
    "    sum(\"NUMSTOREPURCHASES\").alias(\"Sum_Purchase\")\n",
    "    )\n",
    "\n",
    "aggregate_result.sort(col(\"EDUCATION\").asc(), col(\"Sum_Purchase\").asc()).show()"
   ]
  },
  {
   "attachments": {},
   "cell_type": "markdown",
   "metadata": {},
   "source": [
    "### Data Analysis\n",
    "\n",
    "* Sections covers Snowpark API capability to analyse a dataset\n",
    "* Code snippet involves covering Snowpark API capabilities on - \n",
    "    * Data Description\n",
    "    * Pivoting & Cross tabs\n",
    "    * Dealing duplicate & missing values\n",
    "    * Correlation & Covariance\n",
    "* Also covers converting to pandas dataframe and corresponding capabilities"
   ]
  },
  {
   "cell_type": "markdown",
   "metadata": {},
   "source": [
    "##### Data Description"
   ]
  },
  {
   "cell_type": "code",
   "execution_count": 12,
   "metadata": {},
   "outputs": [
    {
     "name": "stdout",
     "output_type": "stream",
     "text": [
      "--------------------------------------------------------------------------------------------------------------------------------------------------------------------------------------------------------------------------------------------------------------------------------------------------------------------------------------------------------------------------------------------------------------------------------------------------------------------------\n",
      "|\"SUMMARY\"  |\"YEAR_BIRTH\"        |\"EDUCATION\"  |\"MARITAL_STATUS\"  |\"INCOME\"            |\"KIDHOME\"           |\"TEENHOME\"          |\"RECENCY\"           |\"MNTWINES\"         |\"MNTFRUITS\"       |\"MNTMEATPRODUCTS\"   |\"MNTFISHPRODUCTS\"  |\"MNTSWEETPRODUCTS\"  |\"MNTGOLDPRODS\"     |\"NUMDEALSPURCHASES\"  |\"NUMWEBPURCHASES\"   |\"NUMCATALOGPURCHASES\"  |\"NUMSTOREPURCHASES\"  |\"NUMWEBVISITSMONTH\"  |\"ID\"                |\"COMPLAIN\"           |\"Z_COSTCONTACT\"  |\"Z_REVENUE\"  |\n",
      "--------------------------------------------------------------------------------------------------------------------------------------------------------------------------------------------------------------------------------------------------------------------------------------------------------------------------------------------------------------------------------------------------------------------------------------------------------------------------\n",
      "|count      |2240.0              |2240         |2240              |2216.0              |2240.0              |2240.0              |2240.0              |2240.0             |2240.0            |2240.0              |2240.0             |2240.0              |2240.0             |2240.0               |2240.0              |2240.0                 |2240.0               |2240.0               |2240.0              |2240.0               |2240.0           |2240.0       |\n",
      "|mean       |1968.805804         |NULL         |NULL              |52247.251354        |0.444196            |0.50625             |49.109375           |303.935714         |26.302232         |166.95              |37.525446          |27.062946           |44.021875          |2.325                |4.084821            |2.662054               |5.790179             |5.316518             |5592.159821         |0.009375             |3.0              |11.0         |\n",
      "|stddev     |11.984069467422158  |NULL         |NULL              |25173.076660901403  |0.5383985512610523  |0.5445383365751212  |28.962452813945163  |336.5973926057657  |39.7734337592318  |225.71537251148845  |54.62897940653843  |41.28049848293986   |52.16743891547677  |1.9322375630341109   |2.7787140910860186  |2.9231005798637857     |3.2509581664487777   |2.426645009060864    |3246.6621975642925  |0.09638983348880732  |0.0              |0.0          |\n",
      "|min        |1893.0              |2n Cycle     |Absurd            |1730.0              |0.0                 |0.0                 |0.0                 |0.0                |0.0               |0.0                 |0.0                |0.0                 |0.0                |0.0                  |0.0                 |0.0                    |0.0                  |0.0                  |0.0                 |0.0                  |3.0              |11.0         |\n",
      "|max        |1996.0              |PhD          |YOLO              |666666.0            |2.0                 |2.0                 |99.0                |1493.0             |199.0             |1725.0              |259.0              |263.0               |362.0              |15.0                 |27.0                |28.0                   |13.0                 |20.0                 |11191.0             |1.0                  |3.0              |11.0         |\n",
      "--------------------------------------------------------------------------------------------------------------------------------------------------------------------------------------------------------------------------------------------------------------------------------------------------------------------------------------------------------------------------------------------------------------------------------------------------------------------------\n",
      "\n"
     ]
    }
   ],
   "source": [
    "marketing_final.describe().show()"
   ]
  },
  {
   "cell_type": "markdown",
   "metadata": {},
   "source": [
    "##### Distinct Rows"
   ]
  },
  {
   "cell_type": "code",
   "execution_count": 13,
   "metadata": {},
   "outputs": [
    {
     "data": {
      "text/plain": [
       "2240"
      ]
     },
     "execution_count": 13,
     "metadata": {},
     "output_type": "execute_result"
    }
   ],
   "source": [
    "marketing_final.distinct().count()"
   ]
  },
  {
   "cell_type": "markdown",
   "metadata": {},
   "source": [
    "##### Pivoting"
   ]
  },
  {
   "cell_type": "code",
   "execution_count": 14,
   "metadata": {},
   "outputs": [
    {
     "name": "stdout",
     "output_type": "stream",
     "text": [
      "----------------------------------------------------------------------------------------\n",
      "|\"MARITAL_STATUS\"  |\"'Graduation'\"  |\"'PhD'\"   |\"'Master'\"  |\"'Basic'\"  |\"'2n Cycle'\"  |\n",
      "----------------------------------------------------------------------------------------\n",
      "|Single            |12625257        |5118203   |4014792     |328296     |1932262       |\n",
      "|Together          |15891167        |6500805   |5315119     |297361     |2505239       |\n",
      "|Married           |21793311        |11046226  |7353472     |439210     |3696088       |\n",
      "|Divorced          |6488599         |2761024   |1862282     |9548       |1136088       |\n",
      "|Widow             |1924183         |1446914   |642417      |22123      |256961        |\n",
      "|Alone             |34176           |35860     |61331       |NULL       |NULL          |\n",
      "|Absurd            |79244           |NULL      |65487       |NULL       |NULL          |\n",
      "|YOLO              |NULL            |96864     |NULL        |NULL       |NULL          |\n",
      "----------------------------------------------------------------------------------------\n",
      "\n"
     ]
    }
   ],
   "source": [
    "market_subset = marketing_final.select(\"EDUCATION\",\"MARITAL_STATUS\",\"INCOME\")\n",
    "market_pivot = market_subset.pivot(\"EDUCATION\",[\"Graduation\",\"PhD\",\"Master\",\"Basic\",\"2n Cycle\"]).sum(\"INCOME\")\n",
    "market_pivot.show()"
   ]
  },
  {
   "cell_type": "markdown",
   "metadata": {},
   "source": [
    "##### Drop Duplicates"
   ]
  },
  {
   "cell_type": "code",
   "execution_count": 15,
   "metadata": {},
   "outputs": [
    {
     "data": {
      "text/plain": [
       "2240"
      ]
     },
     "execution_count": 15,
     "metadata": {},
     "output_type": "execute_result"
    }
   ],
   "source": [
    "marketing_final.drop_duplicates().count()"
   ]
  },
  {
   "cell_type": "code",
   "execution_count": 16,
   "metadata": {},
   "outputs": [
    {
     "name": "stdout",
     "output_type": "stream",
     "text": [
      "----------------------------------\n",
      "|\"EDUCATION\"  |\"MARITAL_STATUS\"  |\n",
      "----------------------------------\n",
      "|Graduation   |Single            |\n",
      "|Graduation   |Together          |\n",
      "|PhD          |Married           |\n",
      "|Master       |Together          |\n",
      "|Graduation   |Divorced          |\n",
      "|Graduation   |Married           |\n",
      "|Basic        |Married           |\n",
      "|2n Cycle     |Single            |\n",
      "|Master       |Married           |\n",
      "|Master       |Single            |\n",
      "----------------------------------\n",
      "\n"
     ]
    }
   ],
   "source": [
    "marketing_final.select([\"Education\",\"Marital_Status\"]).drop_duplicates().show()"
   ]
  },
  {
   "cell_type": "markdown",
   "metadata": {},
   "source": [
    "##### Crosstab"
   ]
  },
  {
   "cell_type": "code",
   "execution_count": 17,
   "metadata": {},
   "outputs": [
    {
     "name": "stdout",
     "output_type": "stream",
     "text": [
      "------------------------------------------------------------------------------------------------------------------------\n",
      "|\"EDUCATION\"  |\"'Single'\"  |\"'Together'\"  |\"'Married'\"  |\"'Divorced'\"  |\"'Widow'\"  |\"'Alone'\"  |\"'Absurd'\"  |\"'YOLO'\"  |\n",
      "------------------------------------------------------------------------------------------------------------------------\n",
      "|Graduation   |252         |286           |433          |119           |35         |1          |1           |0         |\n",
      "|PhD          |98          |117           |192          |52            |24         |1          |0           |2         |\n",
      "|Master       |75          |106           |138          |37            |12         |1          |1           |0         |\n",
      "|Basic        |18          |14            |20           |1             |1          |0          |0           |0         |\n",
      "|2n Cycle     |37          |57            |81           |23            |5          |0          |0           |0         |\n",
      "------------------------------------------------------------------------------------------------------------------------\n",
      "\n"
     ]
    }
   ],
   "source": [
    "marketing_final.stat.crosstab(col1=\"Education\",col2=\"Marital_Status\").show()"
   ]
  },
  {
   "cell_type": "markdown",
   "metadata": {},
   "source": [
    "##### Dealing with Missing Values"
   ]
  },
  {
   "cell_type": "code",
   "execution_count": 18,
   "metadata": {},
   "outputs": [
    {
     "name": "stdout",
     "output_type": "stream",
     "text": [
      "----------------------------------------------------------------------------------------\n",
      "|\"MARITAL_STATUS\"  |\"'Graduation'\"  |\"'PhD'\"   |\"'Master'\"  |\"'Basic'\"  |\"'2n Cycle'\"  |\n",
      "----------------------------------------------------------------------------------------\n",
      "|Single            |12625257        |5118203   |4014792     |328296     |1932262       |\n",
      "|Together          |15891167        |6500805   |5315119     |297361     |2505239       |\n",
      "|Married           |21793311        |11046226  |7353472     |439210     |3696088       |\n",
      "|Divorced          |6488599         |2761024   |1862282     |9548       |1136088       |\n",
      "|Widow             |1924183         |1446914   |642417      |22123      |256961        |\n",
      "|Alone             |34176           |35860     |61331       |NULL       |NULL          |\n",
      "|Absurd            |79244           |NULL      |65487       |NULL       |NULL          |\n",
      "|YOLO              |NULL            |96864     |NULL        |NULL       |NULL          |\n",
      "----------------------------------------------------------------------------------------\n",
      "\n"
     ]
    }
   ],
   "source": [
    "market_pivot.show()"
   ]
  },
  {
   "cell_type": "code",
   "execution_count": 19,
   "metadata": {},
   "outputs": [
    {
     "name": "stdout",
     "output_type": "stream",
     "text": [
      "----------------------------------------------------------------------------------------\n",
      "|\"MARITAL_STATUS\"  |\"'Graduation'\"  |\"'PhD'\"   |\"'Master'\"  |\"'Basic'\"  |\"'2n Cycle'\"  |\n",
      "----------------------------------------------------------------------------------------\n",
      "|Single            |12625257        |5118203   |4014792     |328296     |1932262       |\n",
      "|Together          |15891167        |6500805   |5315119     |297361     |2505239       |\n",
      "|Married           |21793311        |11046226  |7353472     |439210     |3696088       |\n",
      "|Divorced          |6488599         |2761024   |1862282     |9548       |1136088       |\n",
      "|Widow             |1924183         |1446914   |642417      |22123      |256961        |\n",
      "|Alone             |34176           |35860     |61331       |NULL       |NULL          |\n",
      "|Absurd            |79244           |NULL      |65487       |NULL       |NULL          |\n",
      "|YOLO              |NULL            |96864     |NULL        |NULL       |NULL          |\n",
      "----------------------------------------------------------------------------------------\n",
      "\n"
     ]
    }
   ],
   "source": [
    "market_pivot.dropna(how=\"all\").show()"
   ]
  },
  {
   "cell_type": "code",
   "execution_count": 20,
   "metadata": {},
   "outputs": [
    {
     "name": "stdout",
     "output_type": "stream",
     "text": [
      "----------------------------------------------------------------------------------------\n",
      "|\"MARITAL_STATUS\"  |\"'Graduation'\"  |\"'PhD'\"   |\"'Master'\"  |\"'Basic'\"  |\"'2n Cycle'\"  |\n",
      "----------------------------------------------------------------------------------------\n",
      "|Single            |12625257        |5118203   |4014792     |328296     |1932262       |\n",
      "|Together          |15891167        |6500805   |5315119     |297361     |2505239       |\n",
      "|Married           |21793311        |11046226  |7353472     |439210     |3696088       |\n",
      "|Divorced          |6488599         |2761024   |1862282     |9548       |1136088       |\n",
      "|Widow             |1924183         |1446914   |642417      |22123      |256961        |\n",
      "----------------------------------------------------------------------------------------\n",
      "\n"
     ]
    }
   ],
   "source": [
    "market_pivot.dropna(thresh=5).show()"
   ]
  },
  {
   "cell_type": "code",
   "execution_count": 21,
   "metadata": {},
   "outputs": [
    {
     "name": "stdout",
     "output_type": "stream",
     "text": [
      "----------------------------------------------------------------------------------------\n",
      "|\"MARITAL_STATUS\"  |\"'Graduation'\"  |\"'PhD'\"   |\"'Master'\"  |\"'Basic'\"  |\"'2n Cycle'\"  |\n",
      "----------------------------------------------------------------------------------------\n",
      "|Single            |12625257        |5118203   |4014792     |328296     |1932262       |\n",
      "|Together          |15891167        |6500805   |5315119     |297361     |2505239       |\n",
      "|Married           |21793311        |11046226  |7353472     |439210     |3696088       |\n",
      "|Divorced          |6488599         |2761024   |1862282     |9548       |1136088       |\n",
      "|Widow             |1924183         |1446914   |642417      |22123      |256961        |\n",
      "|Alone             |34176           |35860     |61331       |NULL       |NULL          |\n",
      "|Absurd            |79244           |NULL      |65487       |NULL       |NULL          |\n",
      "----------------------------------------------------------------------------------------\n",
      "\n"
     ]
    }
   ],
   "source": [
    "market_pivot.dropna(subset=\"'Graduation'\").show()"
   ]
  },
  {
   "cell_type": "code",
   "execution_count": 22,
   "metadata": {},
   "outputs": [
    {
     "name": "stderr",
     "output_type": "stream",
     "text": [
      "Input value type doesn't match the target column data type, this replacement was skipped. Column Name: \"MARITAL_STATUS\", Type: StringType(16777216), Input Value: 0, Type: <class 'int'>\n"
     ]
    },
    {
     "name": "stdout",
     "output_type": "stream",
     "text": [
      "----------------------------------------------------------------------------------------\n",
      "|\"MARITAL_STATUS\"  |\"'Graduation'\"  |\"'PhD'\"   |\"'Master'\"  |\"'Basic'\"  |\"'2n Cycle'\"  |\n",
      "----------------------------------------------------------------------------------------\n",
      "|Single            |12625257        |5118203   |4014792     |328296     |1932262       |\n",
      "|Together          |15891167        |6500805   |5315119     |297361     |2505239       |\n",
      "|Married           |21793311        |11046226  |7353472     |439210     |3696088       |\n",
      "|Divorced          |6488599         |2761024   |1862282     |9548       |1136088       |\n",
      "|Widow             |1924183         |1446914   |642417      |22123      |256961        |\n",
      "|Alone             |34176           |35860     |61331       |0          |0             |\n",
      "|Absurd            |79244           |0         |65487       |0          |0             |\n",
      "|YOLO              |0               |96864     |0           |0          |0             |\n",
      "----------------------------------------------------------------------------------------\n",
      "\n"
     ]
    }
   ],
   "source": [
    "market_pivot.fillna(0).show()"
   ]
  },
  {
   "attachments": {},
   "cell_type": "markdown",
   "metadata": {},
   "source": [
    "##### Correlation Vs Covariance\n"
   ]
  },
  {
   "cell_type": "code",
   "execution_count": 23,
   "metadata": {},
   "outputs": [
    {
     "data": {
      "text/plain": [
       "0.5293621402734197"
      ]
     },
     "execution_count": 23,
     "metadata": {},
     "output_type": "execute_result"
    }
   ],
   "source": [
    "marketing_final.stat.corr(\"INCOME\", \"NUMSTOREPURCHASES\")"
   ]
  },
  {
   "cell_type": "code",
   "execution_count": 24,
   "metadata": {},
   "outputs": [
    {
     "data": {
      "text/plain": [
       "43318.897447865325"
      ]
     },
     "execution_count": 24,
     "metadata": {},
     "output_type": "execute_result"
    }
   ],
   "source": [
    "marketing_final.stat.cov(\"INCOME\", \"NUMSTOREPURCHASES\")"
   ]
  },
  {
   "cell_type": "markdown",
   "metadata": {},
   "source": [
    "##### Converting to Pandas Dataframe"
   ]
  },
  {
   "cell_type": "code",
   "execution_count": 25,
   "metadata": {},
   "outputs": [
    {
     "data": {
      "text/html": [
       "<div>\n",
       "<style scoped>\n",
       "    .dataframe tbody tr th:only-of-type {\n",
       "        vertical-align: middle;\n",
       "    }\n",
       "\n",
       "    .dataframe tbody tr th {\n",
       "        vertical-align: top;\n",
       "    }\n",
       "\n",
       "    .dataframe thead th {\n",
       "        text-align: right;\n",
       "    }\n",
       "</style>\n",
       "<table border=\"1\" class=\"dataframe\">\n",
       "  <thead>\n",
       "    <tr style=\"text-align: right;\">\n",
       "      <th></th>\n",
       "      <th>YEAR_BIRTH</th>\n",
       "      <th>EDUCATION</th>\n",
       "      <th>MARITAL_STATUS</th>\n",
       "      <th>INCOME</th>\n",
       "      <th>KIDHOME</th>\n",
       "      <th>TEENHOME</th>\n",
       "      <th>DT_CUSTOMER</th>\n",
       "      <th>RECENCY</th>\n",
       "      <th>MNTWINES</th>\n",
       "      <th>MNTFRUITS</th>\n",
       "      <th>...</th>\n",
       "      <th>ACCEPTEDCMP1</th>\n",
       "      <th>ACCEPTEDCMP2</th>\n",
       "      <th>ACCEPTEDCMP3</th>\n",
       "      <th>ACCEPTEDCMP4</th>\n",
       "      <th>ACCEPTEDCMP5</th>\n",
       "      <th>RESPONSE</th>\n",
       "      <th>ID</th>\n",
       "      <th>COMPLAIN</th>\n",
       "      <th>Z_COSTCONTACT</th>\n",
       "      <th>Z_REVENUE</th>\n",
       "    </tr>\n",
       "  </thead>\n",
       "  <tbody>\n",
       "    <tr>\n",
       "      <th>0</th>\n",
       "      <td>1957</td>\n",
       "      <td>Graduation</td>\n",
       "      <td>Single</td>\n",
       "      <td>58138.0</td>\n",
       "      <td>0</td>\n",
       "      <td>0</td>\n",
       "      <td>2012-09-04</td>\n",
       "      <td>58</td>\n",
       "      <td>635</td>\n",
       "      <td>88</td>\n",
       "      <td>...</td>\n",
       "      <td>0</td>\n",
       "      <td>0</td>\n",
       "      <td>0</td>\n",
       "      <td>0</td>\n",
       "      <td>0</td>\n",
       "      <td>1</td>\n",
       "      <td>5524</td>\n",
       "      <td>0</td>\n",
       "      <td>3</td>\n",
       "      <td>11</td>\n",
       "    </tr>\n",
       "    <tr>\n",
       "      <th>1</th>\n",
       "      <td>1954</td>\n",
       "      <td>Graduation</td>\n",
       "      <td>Single</td>\n",
       "      <td>46344.0</td>\n",
       "      <td>1</td>\n",
       "      <td>1</td>\n",
       "      <td>2014-03-08</td>\n",
       "      <td>38</td>\n",
       "      <td>11</td>\n",
       "      <td>1</td>\n",
       "      <td>...</td>\n",
       "      <td>0</td>\n",
       "      <td>0</td>\n",
       "      <td>0</td>\n",
       "      <td>0</td>\n",
       "      <td>0</td>\n",
       "      <td>0</td>\n",
       "      <td>2174</td>\n",
       "      <td>0</td>\n",
       "      <td>3</td>\n",
       "      <td>11</td>\n",
       "    </tr>\n",
       "    <tr>\n",
       "      <th>2</th>\n",
       "      <td>1965</td>\n",
       "      <td>Graduation</td>\n",
       "      <td>Together</td>\n",
       "      <td>71613.0</td>\n",
       "      <td>0</td>\n",
       "      <td>0</td>\n",
       "      <td>2013-08-21</td>\n",
       "      <td>26</td>\n",
       "      <td>426</td>\n",
       "      <td>49</td>\n",
       "      <td>...</td>\n",
       "      <td>0</td>\n",
       "      <td>0</td>\n",
       "      <td>0</td>\n",
       "      <td>0</td>\n",
       "      <td>0</td>\n",
       "      <td>0</td>\n",
       "      <td>4141</td>\n",
       "      <td>0</td>\n",
       "      <td>3</td>\n",
       "      <td>11</td>\n",
       "    </tr>\n",
       "    <tr>\n",
       "      <th>3</th>\n",
       "      <td>1984</td>\n",
       "      <td>Graduation</td>\n",
       "      <td>Together</td>\n",
       "      <td>26646.0</td>\n",
       "      <td>1</td>\n",
       "      <td>0</td>\n",
       "      <td>2014-02-10</td>\n",
       "      <td>26</td>\n",
       "      <td>11</td>\n",
       "      <td>4</td>\n",
       "      <td>...</td>\n",
       "      <td>0</td>\n",
       "      <td>0</td>\n",
       "      <td>0</td>\n",
       "      <td>0</td>\n",
       "      <td>0</td>\n",
       "      <td>0</td>\n",
       "      <td>6182</td>\n",
       "      <td>0</td>\n",
       "      <td>3</td>\n",
       "      <td>11</td>\n",
       "    </tr>\n",
       "    <tr>\n",
       "      <th>4</th>\n",
       "      <td>1981</td>\n",
       "      <td>PhD</td>\n",
       "      <td>Married</td>\n",
       "      <td>58293.0</td>\n",
       "      <td>1</td>\n",
       "      <td>0</td>\n",
       "      <td>2014-01-19</td>\n",
       "      <td>94</td>\n",
       "      <td>173</td>\n",
       "      <td>43</td>\n",
       "      <td>...</td>\n",
       "      <td>0</td>\n",
       "      <td>0</td>\n",
       "      <td>0</td>\n",
       "      <td>0</td>\n",
       "      <td>0</td>\n",
       "      <td>0</td>\n",
       "      <td>5324</td>\n",
       "      <td>0</td>\n",
       "      <td>3</td>\n",
       "      <td>11</td>\n",
       "    </tr>\n",
       "  </tbody>\n",
       "</table>\n",
       "<p>5 rows × 29 columns</p>\n",
       "</div>"
      ],
      "text/plain": [
       "   YEAR_BIRTH   EDUCATION MARITAL_STATUS   INCOME  KIDHOME  TEENHOME  \\\n",
       "0        1957  Graduation         Single  58138.0        0         0   \n",
       "1        1954  Graduation         Single  46344.0        1         1   \n",
       "2        1965  Graduation       Together  71613.0        0         0   \n",
       "3        1984  Graduation       Together  26646.0        1         0   \n",
       "4        1981         PhD        Married  58293.0        1         0   \n",
       "\n",
       "  DT_CUSTOMER  RECENCY  MNTWINES  MNTFRUITS  ...  ACCEPTEDCMP1  ACCEPTEDCMP2  \\\n",
       "0  2012-09-04       58       635         88  ...             0             0   \n",
       "1  2014-03-08       38        11          1  ...             0             0   \n",
       "2  2013-08-21       26       426         49  ...             0             0   \n",
       "3  2014-02-10       26        11          4  ...             0             0   \n",
       "4  2014-01-19       94       173         43  ...             0             0   \n",
       "\n",
       "   ACCEPTEDCMP3  ACCEPTEDCMP4  ACCEPTEDCMP5  RESPONSE    ID  COMPLAIN  \\\n",
       "0             0             0             0         1  5524         0   \n",
       "1             0             0             0         0  2174         0   \n",
       "2             0             0             0         0  4141         0   \n",
       "3             0             0             0         0  6182         0   \n",
       "4             0             0             0         0  5324         0   \n",
       "\n",
       "   Z_COSTCONTACT Z_REVENUE  \n",
       "0              3        11  \n",
       "1              3        11  \n",
       "2              3        11  \n",
       "3              3        11  \n",
       "4              3        11  \n",
       "\n",
       "[5 rows x 29 columns]"
      ]
     },
     "execution_count": 25,
     "metadata": {},
     "output_type": "execute_result"
    }
   ],
   "source": [
    "# thisloads the snowpark dataframe to an in memory pandas dataframe\n",
    "pandas_df =  marketing_final.to_pandas()\n",
    "pandas_df.head()"
   ]
  },
  {
   "cell_type": "code",
   "execution_count": 26,
   "metadata": {},
   "outputs": [
    {
     "name": "stdout",
     "output_type": "stream",
     "text": [
      "(1748, 29)\n",
      "(492, 29)\n"
     ]
    }
   ],
   "source": [
    "for batch in marketing_final.to_pandas_batches():\n",
    "    print(batch.shape)"
   ]
  },
  {
   "cell_type": "markdown",
   "metadata": {},
   "source": [
    "##### Sampling Data"
   ]
  },
  {
   "cell_type": "code",
   "execution_count": 27,
   "metadata": {},
   "outputs": [
    {
     "data": {
      "text/plain": [
       "1134"
      ]
     },
     "execution_count": 27,
     "metadata": {},
     "output_type": "execute_result"
    }
   ],
   "source": [
    "sample_df = marketing_final.sample(frac=0.50)\n",
    "sample_df.count()"
   ]
  },
  {
   "cell_type": "code",
   "execution_count": 28,
   "metadata": {},
   "outputs": [
    {
     "data": {
      "text/plain": [
       "925"
      ]
     },
     "execution_count": 28,
     "metadata": {},
     "output_type": "execute_result"
    }
   ],
   "source": [
    "fractions = {\"Graduation\": 0.5, \"PhD\": 0.5,\"Master\":0.3}\n",
    "sample_df = marketing_final.stat.sample_by(col=\"Education\",fractions=fractions)\n",
    "sample_df.count()"
   ]
  },
  {
   "cell_type": "code",
   "execution_count": 29,
   "metadata": {},
   "outputs": [
    {
     "data": {
      "text/html": [
       "<div>\n",
       "<style scoped>\n",
       "    .dataframe tbody tr th:only-of-type {\n",
       "        vertical-align: middle;\n",
       "    }\n",
       "\n",
       "    .dataframe tbody tr th {\n",
       "        vertical-align: top;\n",
       "    }\n",
       "\n",
       "    .dataframe thead th {\n",
       "        text-align: right;\n",
       "    }\n",
       "</style>\n",
       "<table border=\"1\" class=\"dataframe\">\n",
       "  <thead>\n",
       "    <tr style=\"text-align: right;\">\n",
       "      <th></th>\n",
       "      <th>INCOME</th>\n",
       "      <th>KIDHOME</th>\n",
       "      <th>RECENCY</th>\n",
       "    </tr>\n",
       "  </thead>\n",
       "  <tbody>\n",
       "    <tr>\n",
       "      <th>INCOME</th>\n",
       "      <td>1.000000</td>\n",
       "      <td>-0.428669</td>\n",
       "      <td>-0.003970</td>\n",
       "    </tr>\n",
       "    <tr>\n",
       "      <th>KIDHOME</th>\n",
       "      <td>-0.428669</td>\n",
       "      <td>1.000000</td>\n",
       "      <td>0.008827</td>\n",
       "    </tr>\n",
       "    <tr>\n",
       "      <th>RECENCY</th>\n",
       "      <td>-0.003970</td>\n",
       "      <td>0.008827</td>\n",
       "      <td>1.000000</td>\n",
       "    </tr>\n",
       "  </tbody>\n",
       "</table>\n",
       "</div>"
      ],
      "text/plain": [
       "           INCOME   KIDHOME   RECENCY\n",
       "INCOME   1.000000 -0.428669 -0.003970\n",
       "KIDHOME -0.428669  1.000000  0.008827\n",
       "RECENCY -0.003970  0.008827  1.000000"
      ]
     },
     "execution_count": 29,
     "metadata": {},
     "output_type": "execute_result"
    }
   ],
   "source": [
    "pandas_df[[\"INCOME\",\"KIDHOME\",\"RECENCY\"]].corr()"
   ]
  },
  {
   "cell_type": "code",
   "execution_count": 30,
   "metadata": {},
   "outputs": [
    {
     "data": {
      "text/plain": [
       "EDUCATION\n",
       "Graduation    1127\n",
       "PhD            486\n",
       "Master         370\n",
       "2n Cycle       203\n",
       "Basic           54\n",
       "Name: count, dtype: int64"
      ]
     },
     "execution_count": 30,
     "metadata": {},
     "output_type": "execute_result"
    }
   ],
   "source": [
    "frequency = pandas_df.EDUCATION.value_counts()\n",
    "frequency"
   ]
  },
  {
   "cell_type": "code",
   "execution_count": 31,
   "metadata": {},
   "outputs": [
    {
     "data": {
      "text/plain": [
       "<Axes: ylabel='EDUCATION'>"
      ]
     },
     "execution_count": 31,
     "metadata": {},
     "output_type": "execute_result"
    },
    {
     "data": {
      "image/png": "[encoded data removed]",
      "text/plain": [
       "<Figure size 800x300 with 1 Axes>"
      ]
     },
     "metadata": {},
     "output_type": "display_data"
    }
   ],
   "source": [
    "import matplotlib.pyplot as plt\n",
    "frequency.plot(kind=\"barh\",figsize=(8,3))"
   ]
  },
  {
   "cell_type": "code",
   "execution_count": 32,
   "metadata": {},
   "outputs": [
    {
     "data": {
      "text/plain": [
       "<Axes: xlabel='INCOME', ylabel='MNTGOLDPRODS'>"
      ]
     },
     "execution_count": 32,
     "metadata": {},
     "output_type": "execute_result"
    },
    {
     "data": {
      "image/png": "[encoded data removed]",
      "text/plain": [
       "<Figure size 800x300 with 2 Axes>"
      ]
     },
     "metadata": {},
     "output_type": "display_data"
    }
   ],
   "source": [
    "pandas_df.plot(kind=\"hexbin\",x=\"INCOME\",y=\"MNTGOLDPRODS\",xlim=[0,100000],ylim=[0,100],figsize=(8,3))"
   ]
  }
 ],
 "metadata": {
  "kernelspec": {
   "display_name": "Python 3 (ipykernel)",
   "language": "python",
   "name": "python3"
  },
  "language_info": {
   "codemirror_mode": {
    "name": "ipython",
    "version": 3
   },
   "file_extension": ".py",
   "mimetype": "text/x-python",
   "name": "python",
   "nbconvert_exporter": "python",
   "pygments_lexer": "ipython3",
   "version": "3.8.18"
  }
 },
 "nbformat": 4,
 "nbformat_minor": 4
}
